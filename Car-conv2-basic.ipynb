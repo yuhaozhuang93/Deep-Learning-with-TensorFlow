{
 "cells": [
  {
   "cell_type": "markdown",
   "metadata": {},
   "source": [
    "# CAR-Conv2"
   ]
  },
  {
   "cell_type": "code",
   "execution_count": 1,
   "metadata": {},
   "outputs": [],
   "source": [
    "import cv2                 # working with, mainly resizing, images\n",
    "import numpy as np         # dealing with arrays\n",
    "import os                  # dealing with directories\n",
    "from random import shuffle # mixing up or currently ordered data that might lead our network astray in training.\n",
    "from tqdm import tqdm      # a nice pretty percentage bar for tasks. "
   ]
  },
  {
   "cell_type": "code",
   "execution_count": 2,
   "metadata": {},
   "outputs": [],
   "source": [
    "TRAIN_DIR = 'train_car/'\n",
    "TEST_DIR = 'test/'\n",
    "IMG_SIZE = 50\n",
    "LR = 1e-3\n",
    "\n",
    "MODEL_NAME = 'twocars-{}-{}.model'.format(LR, '2conv-basic')"
   ]
  },
  {
   "cell_type": "code",
   "execution_count": 3,
   "metadata": {},
   "outputs": [],
   "source": [
    "def label_img(img):\n",
    "    word_label = img.split('.')[-3]\n",
    "    \n",
    "    if word_label == 'audia4': return [1,0,0,0]\n",
    "   \n",
    "    elif word_label == 'ferrari': return [0,1,0,0]\n",
    "    \n",
    "    elif word_label == 'benzslk': return [0,0,1,0]\n",
    "    \n",
    "    elif word_label == 'bmw325': return [0,0,0,1]"
   ]
  },
  {
   "cell_type": "code",
   "execution_count": 4,
   "metadata": {},
   "outputs": [],
   "source": [
    "def create_train_data():\n",
    "    training_data = []\n",
    "    for img in tqdm(os.listdir(TRAIN_DIR)):\n",
    "        label = label_img(img)\n",
    "        path = os.path.join(TRAIN_DIR,img)\n",
    "        img = cv2.imread(path,cv2.IMREAD_GRAYSCALE)\n",
    "        img = cv2.resize(img, (IMG_SIZE,IMG_SIZE))\n",
    "        training_data.append([np.array(img),np.array(label)])\n",
    "    shuffle(training_data)\n",
    "    np.save('train_data_car.npy', training_data)\n",
    "    return training_data"
   ]
  },
  {
   "cell_type": "code",
   "execution_count": 5,
   "metadata": {},
   "outputs": [],
   "source": [
    "def process_test_data():\n",
    "    testing_data = []\n",
    "    for img in tqdm(os.listdir(TEST_DIR)):\n",
    "        path = os.path.join(TEST_DIR,img)\n",
    "        img_num = img.split('.')[0]\n",
    "        img = cv2.imread(path,cv2.IMREAD_GRAYSCALE)\n",
    "        img = cv2.resize(img, (IMG_SIZE,IMG_SIZE))\n",
    "        testing_data.append([np.array(img), img_num])\n",
    "        \n",
    "    shuffle(testing_data)\n",
    "    np.save('test_data_car.npy', testing_data)\n",
    "    return testing_data"
   ]
  },
  {
   "cell_type": "code",
   "execution_count": 6,
   "metadata": {
    "scrolled": true
   },
   "outputs": [],
   "source": [
    "#train_data = create_train_data()\n",
    "train_data = np.load('train_data_car.npy')"
   ]
  },
  {
   "cell_type": "code",
   "execution_count": 7,
   "metadata": {},
   "outputs": [
    {
     "name": "stdout",
     "output_type": "stream",
     "text": [
      "[[ array([[255, 255, 188, ...,  90, 255, 255],\n",
      "       [255, 255, 195, ...,  83, 254, 255],\n",
      "       [255, 255, 159, ...,  81, 253, 255],\n",
      "       ..., \n",
      "       [255, 254, 130, ..., 130, 250, 255],\n",
      "       [255, 255, 137, ..., 191, 253, 255],\n",
      "       [255, 248, 128, ..., 190, 253, 255]], dtype=uint8)\n",
      "  array([1, 0, 0, 0])]\n",
      " [ array([[100, 148,  96, ...,  82,  59,  90],\n",
      "       [ 62, 175, 244, ...,  79,  79,  79],\n",
      "       [112,  85,  84, ...,  56,  61,  62],\n",
      "       ..., \n",
      "       [ 49,  49,  56, ...,  96,  96,  98],\n",
      "       [ 60,  66,  44, ...,  96,  94,  96],\n",
      "       [ 41,  52,  42, ...,  96,  94,  92]], dtype=uint8)\n",
      "  array([0, 0, 1, 0])]\n",
      " [ array([[ 59,  43,  47, ..., 103, 153,  68],\n",
      "       [ 53,  43,  52, ..., 107, 154,  91],\n",
      "       [ 49,  49,  60, ..., 103, 157,  94],\n",
      "       ..., \n",
      "       [115, 151,  97, ...,  49,  67,  86],\n",
      "       [139, 110,  71, ..., 134, 130, 125],\n",
      "       [146,  93, 141, ...,  82, 111,  76]], dtype=uint8)\n",
      "  array([0, 1, 0, 0])]\n",
      " ..., \n",
      " [ array([[209, 226, 236, ..., 142,  40, 160],\n",
      "       [169, 214, 184, ..., 111, 166,  14],\n",
      "       [200, 217, 231, ...,  82,  97, 126],\n",
      "       ..., \n",
      "       [124, 164, 162, ...,  80,  89, 128],\n",
      "       [130, 175, 142, ...,  93,  60, 124],\n",
      "       [153, 135, 121, ..., 100, 147,  69]], dtype=uint8)\n",
      "  array([0, 1, 0, 0])]\n",
      " [ array([[210, 215, 222, ..., 238, 231, 214],\n",
      "       [206, 211, 217, ..., 236, 227, 206],\n",
      "       [207, 207, 211, ..., 235, 226, 204],\n",
      "       ..., \n",
      "       [162, 163, 164, ..., 168, 164, 166],\n",
      "       [160, 164, 164, ..., 162, 162, 165],\n",
      "       [165, 162, 162, ..., 162, 161, 166]], dtype=uint8)\n",
      "  array([0, 0, 0, 1])]\n",
      " [ array([[123, 134, 132, ...,  44,  42,  31],\n",
      "       [117, 121, 137, ...,  45,  35,  35],\n",
      "       [131, 139, 101, ...,  42,  39,  58],\n",
      "       ..., \n",
      "       [ 52,  49,  53, ..., 157, 159,  71],\n",
      "       [ 59,  50, 193, ...,  86,  68,  64],\n",
      "       [255, 252, 234, ...,  69,  77,  78]], dtype=uint8)\n",
      "  array([0, 1, 0, 0])]]\n"
     ]
    }
   ],
   "source": [
    "b = np.load('train_data_car.npy')\n",
    "print(b)"
   ]
  },
  {
   "cell_type": "code",
   "execution_count": 8,
   "metadata": {},
   "outputs": [
    {
     "name": "stderr",
     "output_type": "stream",
     "text": [
      "/Library/anaconda3/envs/tflearn/lib/python3.6/importlib/_bootstrap.py:219: RuntimeWarning: compiletime version 3.5 of module 'tensorflow.python.framework.fast_tensor_util' does not match runtime version 3.6\n",
      "  return f(*args, **kwds)\n"
     ]
    },
    {
     "name": "stdout",
     "output_type": "stream",
     "text": [
      "Scipy not supported!\n",
      "WARNING:tensorflow:From /Library/anaconda3/envs/tflearn/lib/python3.6/site-packages/tflearn/initializations.py:119: UniformUnitScaling.__init__ (from tensorflow.python.ops.init_ops) is deprecated and will be removed in a future version.\n",
      "Instructions for updating:\n",
      "Use tf.initializers.variance_scaling instead with distribution=uniform to get equivalent behavior.\n"
     ]
    }
   ],
   "source": [
    "import tflearn\n",
    "from tflearn.layers.conv import conv_2d, max_pool_2d\n",
    "from tflearn.layers.core import input_data, dropout, fully_connected\n",
    "from tflearn.layers.estimator import regression\n",
    "\n",
    "\n",
    "convnet = input_data(shape=[None, IMG_SIZE, IMG_SIZE, 1], name='input')\n",
    "\n",
    "convnet = conv_2d(convnet, 32, 2, activation='relu')\n",
    "convnet = max_pool_2d(convnet, 2)\n",
    "\n",
    "convnet = conv_2d(convnet, 64, 2, activation='relu')\n",
    "convnet = max_pool_2d(convnet, 2)\n",
    "\n",
    "convnet = fully_connected(convnet, 1024, activation='relu')\n",
    "convnet = dropout(convnet, 0.8)\n",
    "#How many class should be push\n",
    "convnet = fully_connected(convnet, 4, activation='softmax')\n",
    "convnet = regression(convnet, optimizer='adam', learning_rate=LR, loss='categorical_crossentropy', name='targets')\n",
    "\n",
    "model = tflearn.DNN(convnet, tensorboard_dir='log')\n"
   ]
  },
  {
   "cell_type": "code",
   "execution_count": 9,
   "metadata": {},
   "outputs": [],
   "source": [
    "if os.path.exists('{}.meta'.format(MODEL_NAME)):\n",
    "    model.load(MODEL_NAME)\n",
    "    print('model loaded!')"
   ]
  },
  {
   "cell_type": "code",
   "execution_count": 10,
   "metadata": {},
   "outputs": [],
   "source": [
    "train = train_data[:500]\n",
    "test = train_data[-500:]"
   ]
  },
  {
   "cell_type": "code",
   "execution_count": 11,
   "metadata": {},
   "outputs": [],
   "source": [
    "X = np.array([i[0] for i in train]).reshape(-1,IMG_SIZE,IMG_SIZE,1)\n",
    "Y = [i[1] for i in train]\n",
    "\n",
    "test_x = np.array([i[0] for i in test]).reshape(-1,IMG_SIZE,IMG_SIZE,1)\n",
    "test_y = [i[1] for i in test]"
   ]
  },
  {
   "cell_type": "code",
   "execution_count": 12,
   "metadata": {},
   "outputs": [
    {
     "name": "stdout",
     "output_type": "stream",
     "text": [
      "Training Step: 399  | total loss: \u001b[1m\u001b[32m14.30695\u001b[0m\u001b[0m | time: 1.270s\n",
      "| Adam | epoch: 050 | loss: 14.30695 - acc: 0.3787 -- iter: 448/500\n",
      "Training Step: 400  | total loss: \u001b[1m\u001b[32m14.38733\u001b[0m\u001b[0m | time: 2.465s\n",
      "| Adam | epoch: 050 | loss: 14.38733 - acc: 0.3752 | val_loss: 14.82865 - val_acc: 0.3560 -- iter: 500/500\n",
      "--\n"
     ]
    }
   ],
   "source": [
    "model.fit({'input': X}, {'targets': Y}, n_epoch=50, validation_set=({'input': test_x}, {'targets': test_y}), \n",
    "    snapshot_step=500, show_metric=True, run_id=MODEL_NAME)"
   ]
  },
  {
   "cell_type": "markdown",
   "metadata": {},
   "source": [
    "# tensorboard --logdir="
   ]
  },
  {
   "cell_type": "code",
   "execution_count": null,
   "metadata": {},
   "outputs": [],
   "source": []
  },
  {
   "cell_type": "code",
   "execution_count": null,
   "metadata": {},
   "outputs": [],
   "source": []
  },
  {
   "cell_type": "code",
   "execution_count": null,
   "metadata": {},
   "outputs": [],
   "source": []
  },
  {
   "cell_type": "code",
   "execution_count": null,
   "metadata": {},
   "outputs": [],
   "source": []
  }
 ],
 "metadata": {
  "kernelspec": {
   "display_name": "Python 3",
   "language": "python",
   "name": "python3"
  },
  "language_info": {
   "codemirror_mode": {
    "name": "ipython",
    "version": 3
   },
   "file_extension": ".py",
   "mimetype": "text/x-python",
   "name": "python",
   "nbconvert_exporter": "python",
   "pygments_lexer": "ipython3",
   "version": "3.6.3"
  }
 },
 "nbformat": 4,
 "nbformat_minor": 2
}
