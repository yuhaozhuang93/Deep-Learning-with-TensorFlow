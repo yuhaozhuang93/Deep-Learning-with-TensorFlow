{
 "cells": [
  {
   "cell_type": "markdown",
   "metadata": {},
   "source": [
    "# CAR-Recognition"
   ]
  },
  {
   "cell_type": "code",
   "execution_count": 1,
   "metadata": {},
   "outputs": [],
   "source": [
    "import cv2                 # deal with images\n",
    "import numpy as np         \n",
    "import os                  # deal with direc|\n",
    "from random import shuffle \n",
    "from tqdm import tqdm      # percentage bar\n"
   ]
  },
  {
   "cell_type": "markdown",
   "metadata": {},
   "source": [
    "# Train Car"
   ]
  },
  {
   "cell_type": "code",
   "execution_count": null,
   "metadata": {},
   "outputs": [],
   "source": [
    "TRAIN_DIR = 'train_car/'\n",
    "TEST_DIR = 'test/'\n",
    "IMG_SIZE = 32\n",
    "LR = 1e-4\n",
    "\n",
    "MODEL_NAME = 'cars-{}-{}.model'.format(LR, '6conv')"
   ]
  },
  {
   "cell_type": "code",
   "execution_count": null,
   "metadata": {},
   "outputs": [],
   "source": [
    "def label_img(img):\n",
    "    word_label = img.split('.')[-3]\n",
    "    \n",
    "    if word_label == 'audia4': return [1,0,0,0,0,0,0,0,0,0]\n",
    "   \n",
    "    elif word_label == 'fordMustang2017': return [0,1,0,0,0,0,0,0,0,0]\n",
    "    \n",
    "    elif word_label == 'benzslk': return [0,0,1,0,0,0,0,0,0,0]\n",
    "    \n",
    "    elif word_label == 'bmw325i': return [0,0,0,1,0,0,0,0,0,0]\n",
    "    \n",
    "    elif word_label == 'toyotaCamry': return [0,0,0,0,1,0,0,0,0,0]\n",
    "    \n",
    "    elif word_label == 'chevroletCamaro2017': return [0,0,0,0,0,1,0,0,0,0]\n",
    "    \n",
    "    elif word_label == 'hyundaiSonata2018': return [0,0,0,0,0,0,1,0,0,0]\n",
    "    \n",
    "    elif word_label == 'lamboHuracan2017': return [0,0,0,0,0,0,0,1,0,0]\n",
    "    \n",
    "    elif word_label == 'volkswagenBeetle2017': return [0,0,0,0,0,0,0,0,1,0]\n",
    "    \n",
    "    elif word_label == 'volkswagenGolf2017': return [0,0,0,0,0,0,0,0,0,1]"
   ]
  },
  {
   "cell_type": "markdown",
   "metadata": {},
   "source": [
    "# Train car 5"
   ]
  },
  {
   "cell_type": "code",
   "execution_count": 2,
   "metadata": {},
   "outputs": [],
   "source": [
    "TRAIN_DIR = 'train_car_5/'\n",
    "TEST_DIR = 'test/'\n",
    "IMG_SIZE = 32\n",
    "LR = 1e-4\n",
    "\n",
    "MODEL_NAME = 'cars-{}-{}.model'.format(LR, '6conv')"
   ]
  },
  {
   "cell_type": "code",
   "execution_count": 3,
   "metadata": {},
   "outputs": [],
   "source": [
    "def label_img(img):\n",
    "    word_label = img.split('.')[-3]\n",
    "    \n",
    "    if word_label == 'volkswagenGolf2017': return [1,0,0,0,0]\n",
    "   \n",
    "    elif word_label == 'volkswagenBeetle2017': return [0,1,0,0,0]\n",
    "    \n",
    "    elif word_label == 'lamboHuracan2017': return [0,0,1,0,0]\n",
    "    \n",
    "    elif word_label == 'hyundaiSonata2018': return [0,0,0,1,0]\n",
    "    \n",
    "    elif word_label == 'fordMustang2017': return [0,0,0,0,1]\n",
    "    \n"
   ]
  },
  {
   "cell_type": "code",
   "execution_count": 4,
   "metadata": {},
   "outputs": [],
   "source": [
    "def create_train_data():\n",
    "    training_data = []\n",
    "    for img in tqdm(os.listdir(TRAIN_DIR)):\n",
    "        label = label_img(img)\n",
    "        path = os.path.join(TRAIN_DIR,img)\n",
    "        img = cv2.imread(path,cv2.IMREAD_GRAYSCALE)\n",
    "#         img = cv2.imread(path)\n",
    "        img = cv2.resize(img, (IMG_SIZE,IMG_SIZE))\n",
    "        training_data.append([np.array(img),np.array(label)])\n",
    "    shuffle(training_data)\n",
    "    np.save('train_data_car.npy', training_data)\n",
    "    return training_data"
   ]
  },
  {
   "cell_type": "code",
   "execution_count": 5,
   "metadata": {},
   "outputs": [],
   "source": [
    "def process_test_data():\n",
    "    testing_data = []\n",
    "    for img in tqdm(os.listdir(TEST_DIR)):\n",
    "        path = os.path.join(TEST_DIR,img)\n",
    "        img_num = img.split('.')[0]\n",
    "        img = cv2.imread(path,cv2.IMREAD_GRAYSCALE)\n",
    "#         img = cv2.imread(path)\n",
    "        img = cv2.resize(img, (IMG_SIZE,IMG_SIZE))\n",
    "        testing_data.append([np.array(img), img_num])\n",
    "        \n",
    "    shuffle(testing_data)\n",
    "    np.save('test_data_car.npy', testing_data)\n",
    "    return testing_data"
   ]
  },
  {
   "cell_type": "code",
   "execution_count": 6,
   "metadata": {
    "scrolled": true
   },
   "outputs": [],
   "source": [
    "#train_data = create_train_data()\n",
    "train_data = np.load('train_data_car.npy')"
   ]
  },
  {
   "cell_type": "code",
   "execution_count": null,
   "metadata": {},
   "outputs": [],
   "source": [
    "b = np.load('train_data_car.npy')\n",
    "print(b)"
   ]
  },
  {
   "cell_type": "markdown",
   "metadata": {},
   "source": [
    "# 2convnet"
   ]
  },
  {
   "cell_type": "code",
   "execution_count": null,
   "metadata": {},
   "outputs": [],
   "source": [
    "import tflearn\n",
    "from tflearn.layers.conv import conv_2d, max_pool_2d\n",
    "from tflearn.layers.core import input_data, dropout, fully_connected\n",
    "from tflearn.layers.normalization import local_response_normalization\n",
    "from tflearn.layers.estimator import regression\n",
    "\n",
    "import tensorflow as tf\n",
    "tf.reset_default_graph()\n",
    "\n",
    "convnet = input_data(shape=[None, IMG_SIZE, IMG_SIZE, 1], name='input')\n",
    "\n",
    "convnet = conv_2d(convnet, 32, 2, activation='relu')\n",
    "convnet = max_pool_2d(convnet, 2)\n",
    "\n",
    "convnet = conv_2d(convnet, 64, 2, activation='relu')\n",
    "convnet = max_pool_2d(convnet, 2)\n",
    "\n",
    "convnet = fully_connected(convnet, 1024, activation='relu')\n",
    "convnet = dropout(convnet, 0.8)\n",
    "\n",
    "convnet = fully_connected(convnet, 10, activation='softmax')\n",
    "\n",
    "# convnet = fully_connected(convnet, 1024, activation='relu')\n",
    "# convnet = dropout(convnet, 0.8)\n",
    "# #How many class should be push\n",
    "# convnet = fully_connected(convnet, 10, activation='softmax')\n",
    "convnet = regression(convnet, optimizer='adam', learning_rate=LR, loss='categorical_crossentropy', name='targets')\n",
    "\n",
    "model = tflearn.DNN(convnet, tensorboard_dir='log')\n"
   ]
  },
  {
   "cell_type": "markdown",
   "metadata": {},
   "source": [
    "# 6Convnet"
   ]
  },
  {
   "cell_type": "code",
   "execution_count": 7,
   "metadata": {},
   "outputs": [
    {
     "name": "stderr",
     "output_type": "stream",
     "text": [
      "/Library/anaconda3/envs/tflearn/lib/python3.6/importlib/_bootstrap.py:219: RuntimeWarning: compiletime version 3.5 of module 'tensorflow.python.framework.fast_tensor_util' does not match runtime version 3.6\n",
      "  return f(*args, **kwds)\n"
     ]
    },
    {
     "name": "stdout",
     "output_type": "stream",
     "text": [
      "WARNING:tensorflow:From /Library/anaconda3/envs/tflearn/lib/python3.6/site-packages/tflearn/initializations.py:119: UniformUnitScaling.__init__ (from tensorflow.python.ops.init_ops) is deprecated and will be removed in a future version.\n",
      "Instructions for updating:\n",
      "Use tf.initializers.variance_scaling instead with distribution=uniform to get equivalent behavior.\n"
     ]
    }
   ],
   "source": [
    "import tflearn\n",
    "from tflearn.layers.conv import conv_2d, max_pool_2d\n",
    "from tflearn.layers.core import input_data, dropout, fully_connected\n",
    "from tflearn.layers.normalization import local_response_normalization\n",
    "from tflearn.layers.estimator import regression\n",
    "from tflearn.data_preprocessing import ImagePreprocessing\n",
    "from tflearn.data_augmentation import ImageAugmentation\n",
    "\n",
    "import tensorflow as tf\n",
    "tf.reset_default_graph()\n",
    "\n",
    "# Make sure the data is normalized\n",
    "# img_prep = ImagePreprocessing()\n",
    "# img_prep.add_featurewise_zero_center()\n",
    "# img_prep.add_featurewise_stdnorm()\n",
    "\n",
    "# Create extra synthetic training data by flipping, rotating and blurring the\n",
    "# images on our data set.\n",
    "img_aug = ImageAugmentation()\n",
    "img_aug.add_random_flip_leftright()\n",
    "img_aug.add_random_rotation(max_angle=25.)\n",
    "#img_aug.add_random_blur(sigma_max=3.)\n",
    "\n",
    "\n",
    "#data_augmentation=img_aug,\n",
    "#data_preprocessing=img_prep,\n",
    "convnet = input_data(shape=[None, IMG_SIZE, IMG_SIZE, 1],data_augmentation=img_aug,\n",
    "                      name='input')\n",
    "\n",
    "convnet = conv_2d(convnet, 32, 2, activation='relu')\n",
    "convnet = max_pool_2d(convnet, 2)\n",
    "\n",
    "convnet = conv_2d(convnet, 64, 2, activation='relu')\n",
    "convnet = max_pool_2d(convnet, 2)\n",
    "\n",
    "convnet = conv_2d(convnet, 128, 2, activation='relu')\n",
    "convnet = max_pool_2d(convnet, 2)\n",
    "\n",
    "convnet = conv_2d(convnet, 256, 2, activation='relu')\n",
    "convnet = max_pool_2d(convnet, 2)\n",
    "\n",
    "convnet = conv_2d(convnet, 256, 2, activation='relu')\n",
    "convnet = max_pool_2d(convnet, 2)\n",
    "\n",
    "convnet = conv_2d(convnet, 256, 2, activation='relu')\n",
    "convnet = max_pool_2d(convnet, 2)\n",
    "\n",
    "convnet = fully_connected(convnet, 1024, activation='relu')\n",
    "convnet = dropout(convnet, 0.5)\n",
    "\n",
    "convnet = fully_connected(convnet, 5, activation='softmax')\n",
    "\n",
    "\n",
    "\n",
    "\n",
    "# convnet = fully_connected(convnet, 1024, activation='relu')\n",
    "# convnet = dropout(convnet, 0.8)\n",
    "# #How many class should be push\n",
    "# convnet = fully_connected(convnet, 10, activation='softmax')\n",
    "convnet = regression(convnet, optimizer='adam', learning_rate=LR, loss='categorical_crossentropy', name='targets')\n",
    "\n",
    "model = tflearn.DNN(convnet, tensorboard_dir='log')\n"
   ]
  },
  {
   "cell_type": "markdown",
   "metadata": {},
   "source": [
    "# ALEXNET"
   ]
  },
  {
   "cell_type": "code",
   "execution_count": null,
   "metadata": {},
   "outputs": [],
   "source": [
    "import tflearn\n",
    "from tflearn.layers.core import input_data, dropout, fully_connected\n",
    "from tflearn.layers.conv import conv_2d, max_pool_2d\n",
    "from tflearn.layers.normalization import local_response_normalization\n",
    "from tflearn.layers.estimator import regression\n",
    "from tflearn.data_preprocessing import ImagePreprocessing\n",
    "from tflearn.data_augmentation import ImageAugmentation\n",
    "\n",
    "import tensorflow as tf\n",
    "tf.reset_default_graph()\n",
    "\n",
    "# Create extra synthetic training data by flipping, rotating and blurring the\n",
    "# images on our data set.\n",
    "img_aug = ImageAugmentation()\n",
    "img_aug.add_random_flip_leftright()\n",
    "img_aug.add_random_rotation(max_angle=25.)\n",
    "img_aug.add_random_blur(sigma_max=3.)\n",
    "\n",
    "\n",
    "network = input_data(shape=[None, IMG_SIZE, IMG_SIZE, 1],\n",
    "                      name='input')\n",
    "network = conv_2d(network, 96, 11, strides=4, activation='relu')\n",
    "network = max_pool_2d(network, 3, strides=2)\n",
    "network = local_response_normalization(network)\n",
    "network = conv_2d(network, 256, 5, activation='relu')\n",
    "network = max_pool_2d(network, 3, strides=2)\n",
    "network = local_response_normalization(network)\n",
    "network = conv_2d(network, 384, 3, activation='relu')\n",
    "network = conv_2d(network, 384, 3, activation='relu')\n",
    "network = conv_2d(network, 256, 3, activation='relu')\n",
    "network = max_pool_2d(network, 3, strides=2)\n",
    "network = local_response_normalization(network)\n",
    "network = fully_connected(network, 4096, activation='tanh')\n",
    "network = dropout(network, 0.5)\n",
    "network = fully_connected(network, 4096, activation='tanh')\n",
    "network = dropout(network, 0.5)\n",
    "network = fully_connected(network, 10, activation='softmax')\n",
    "network = regression(network,  optimizer='momentum', learning_rate=LR, loss='categorical_crossentropy', name='targets')\n",
    "\n",
    "# Training\n",
    "model = tflearn.DNN(network, tensorboard_dir='log')"
   ]
  },
  {
   "cell_type": "markdown",
   "metadata": {},
   "source": [
    "# 6 conv improve"
   ]
  },
  {
   "cell_type": "code",
   "execution_count": null,
   "metadata": {},
   "outputs": [],
   "source": [
    "import tflearn\n",
    "from tflearn.data_utils import shuffle, to_categorical\n",
    "from tflearn.layers.core import input_data, dropout, flatten, fully_connected\n",
    "from tflearn.layers.conv import conv_2d, max_pool_2d, avg_pool_2d\n",
    "from tflearn.layers.estimator import regression\n",
    "\n",
    "import tensorflow as tf\n",
    "tf.reset_default_graph()\n",
    "# Data loading and preprocessing\n",
    "# from tflearn.datasets import cifar10\n",
    "# (X, Y), (X_test, Y_test) = cifar10.load_data()\n",
    "# X, Y = shuffle(X, Y)\n",
    "# Y = to_categorical(Y)\n",
    "# Y_test = to_categorical(Y_test)\n",
    "\n",
    "# Building 'Network In Network'\n",
    "network = input_data(shape=[None, 32, 32, 1], name='input')\n",
    "network = conv_2d(network, 192, 5, activation='relu')\n",
    "network = conv_2d(network, 160, 1, activation='relu')\n",
    "network = conv_2d(network, 96, 1, activation='relu')\n",
    "network = max_pool_2d(network, 3, strides=2)\n",
    "network = dropout(network, 0.5)\n",
    "network = conv_2d(network, 192, 5, activation='relu')\n",
    "network = conv_2d(network, 192, 1, activation='relu')\n",
    "network = conv_2d(network, 192, 1, activation='relu')\n",
    "network = avg_pool_2d(network, 3, strides=2)\n",
    "network = dropout(network, 0.5)\n",
    "network = conv_2d(network, 192, 3, activation='relu')\n",
    "network = conv_2d(network, 192, 1, activation='relu')\n",
    "network = conv_2d(network, 10, 1, activation='relu')\n",
    "network = avg_pool_2d(network, 8)\n",
    "network = flatten(network)\n",
    "network = fully_connected(network, 5, activation='softmax')\n",
    "network = regression(network, optimizer='adam',\n",
    "                     loss='softmax_categorical_crossentropy',\n",
    "                     learning_rate=0.001, name='targets')\n",
    "\n",
    "# Training\n",
    "model = tflearn.DNN(network, tensorboard_dir='log')\n",
    "# model.fit(X, Y, n_epoch=50, shuffle=True, validation_set=(X_test, Y_test),\n",
    "#           show_metric=True, batch_size=128, run_id='cifar10_net_in_net')"
   ]
  },
  {
   "cell_type": "code",
   "execution_count": null,
   "metadata": {},
   "outputs": [],
   "source": []
  },
  {
   "cell_type": "code",
   "execution_count": 8,
   "metadata": {},
   "outputs": [],
   "source": [
    "if os.path.exists('{}.meta'.format(MODEL_NAME)):\n",
    "    model.load(MODEL_NAME)\n",
    "    print('model loaded!')"
   ]
  },
  {
   "cell_type": "code",
   "execution_count": 9,
   "metadata": {},
   "outputs": [],
   "source": [
    "train = train_data[:-200]\n",
    "test = train_data[-200:]"
   ]
  },
  {
   "cell_type": "code",
   "execution_count": 10,
   "metadata": {},
   "outputs": [],
   "source": [
    "X = np.array([i[0] for i in train]).reshape(-1,IMG_SIZE,IMG_SIZE,1)\n",
    "Y = [i[1] for i in train]\n",
    "\n",
    "test_x = np.array([i[0] for i in test]).reshape(-1,IMG_SIZE,IMG_SIZE,1)\n",
    "test_y = [i[1] for i in test]"
   ]
  },
  {
   "cell_type": "code",
   "execution_count": 11,
   "metadata": {
    "scrolled": true
   },
   "outputs": [
    {
     "name": "stdout",
     "output_type": "stream",
     "text": [
      "Training Step: 719  | total loss: \u001b[1m\u001b[32m1.24876\u001b[0m\u001b[0m | time: 1.577s\n",
      "| Adam | epoch: 060 | loss: 1.24876 - acc: 0.4911 -- iter: 1408/1421\n",
      "Training Step: 720  | total loss: \u001b[1m\u001b[32m1.23961\u001b[0m\u001b[0m | time: 2.746s\n",
      "| Adam | epoch: 060 | loss: 1.23961 - acc: 0.4967 | val_loss: 1.50100 - val_acc: 0.4000 -- iter: 1421/1421\n",
      "--\n"
     ]
    }
   ],
   "source": [
    "model.fit({'input': X}, {'targets': Y}, n_epoch=60, validation_set=({'input': test_x}, {'targets': test_y}), \n",
    "    snapshot_step=500, snapshot_epoch=True, show_metric=True, batch_size=128, run_id=MODEL_NAME)"
   ]
  },
  {
   "cell_type": "markdown",
   "metadata": {},
   "source": [
    "# tensorboard --logdir="
   ]
  },
  {
   "cell_type": "code",
   "execution_count": null,
   "metadata": {},
   "outputs": [],
   "source": [
    "model.save(MODEL_NAME)"
   ]
  },
  {
   "cell_type": "code",
   "execution_count": null,
   "metadata": {},
   "outputs": [],
   "source": [
    "import matplotlib.pyplot as plt"
   ]
  },
  {
   "cell_type": "code",
   "execution_count": null,
   "metadata": {},
   "outputs": [],
   "source": [
    "\n",
    "test_data = process_test_data()\n",
    "\n",
    "#test_data = np.load('test_data_car.npy')\n",
    "\n",
    "start = np.random.randint(0,100)\n",
    "end = start + 12"
   ]
  },
  {
   "cell_type": "code",
   "execution_count": null,
   "metadata": {},
   "outputs": [],
   "source": [
    "c = np.load('test_data_car.npy')\n",
    "print(c)"
   ]
  },
  {
   "cell_type": "code",
   "execution_count": null,
   "metadata": {},
   "outputs": [],
   "source": [
    "for num,data in enumerate(test_data[start:end]):\n",
    "    img_data = data[0]\n",
    "    data = img_data.reshape(IMG_SIZE,IMG_SIZE,1)\n",
    "    model_out = model.predict([data])[0]\n",
    "model_out\n",
    "#np.argmax(model_out)"
   ]
  },
  {
   "cell_type": "code",
   "execution_count": null,
   "metadata": {},
   "outputs": [],
   "source": [
    "fig=plt.figure(dpi=100)\n",
    "\n",
    "for num,data in enumerate(test_data[start:end]):\n",
    "    \n",
    "    \n",
    "    img_num = data[1]\n",
    "    img_data = data[0]\n",
    "    \n",
    "    y = fig.add_subplot(1,4,num+1)\n",
    "    orig = img_data\n",
    "    data = img_data.reshape(IMG_SIZE,IMG_SIZE,1)\n",
    "    #model_out = model.predict([data])[0]\n",
    "    model_out = model.predict([data])[0]\n",
    "    predict_index = np.argmax(model_out)\n",
    "    if predict_index == 0: str_label='volkswagenGolf2017'\n",
    "    elif predict_index == 1: str_label='volkswagenBeetle2017'\n",
    "    elif predict_index == 2: str_label='lamboHuracan2017'\n",
    "    elif predict_index == 3: str_label='hyundaiSonata2018'\n",
    "    elif predict_index == 4: str_label='fordMustang2017'\n",
    "    \n",
    "    \n",
    "    y.imshow(orig,cmap='gray')\n",
    "    y.imshow(orig)\n",
    "    plt.title(str_label)\n",
    "    y.axes.get_xaxis().set_visible(False)\n",
    "    y.axes.get_yaxis().set_visible(False)\n",
    "plt.show()"
   ]
  },
  {
   "cell_type": "code",
   "execution_count": null,
   "metadata": {},
   "outputs": [],
   "source": []
  }
 ],
 "metadata": {
  "kernelspec": {
   "display_name": "Python 3",
   "language": "python",
   "name": "python3"
  },
  "language_info": {
   "codemirror_mode": {
    "name": "ipython",
    "version": 3
   },
   "file_extension": ".py",
   "mimetype": "text/x-python",
   "name": "python",
   "nbconvert_exporter": "python",
   "pygments_lexer": "ipython3",
   "version": "3.6.3"
  }
 },
 "nbformat": 4,
 "nbformat_minor": 2
}
